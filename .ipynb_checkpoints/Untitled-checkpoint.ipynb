{
 "cells": [
  {
   "cell_type": "code",
   "execution_count": 10,
   "metadata": {},
   "outputs": [],
   "source": [
    "test_list = [9, 4, 5, 8, 10] \n",
    "sub_list = [10, 5] \n",
    "sub_list2 = [9, 4, 5, 8] "
   ]
  },
  {
   "cell_type": "code",
   "execution_count": 2,
   "metadata": {},
   "outputs": [
    {
     "data": {
      "text/plain": [
       "True"
      ]
     },
     "execution_count": 2,
     "metadata": {},
     "output_type": "execute_result"
    }
   ],
   "source": [
    "set(sub_list).issubset(set(test_list))"
   ]
  },
  {
   "cell_type": "code",
   "execution_count": 11,
   "metadata": {},
   "outputs": [
    {
     "data": {
      "text/plain": [
       "True"
      ]
     },
     "execution_count": 11,
     "metadata": {},
     "output_type": "execute_result"
    }
   ],
   "source": [
    "set(sub_list) <= set(test_list)"
   ]
  },
  {
   "cell_type": "code",
   "execution_count": 13,
   "metadata": {},
   "outputs": [
    {
     "data": {
      "text/plain": [
       "set()"
      ]
     },
     "execution_count": 13,
     "metadata": {},
     "output_type": "execute_result"
    }
   ],
   "source": [
    "new_set = set(sub_list) - set(test_list)\n",
    "new_set"
   ]
  },
  {
   "cell_type": "code",
   "execution_count": 14,
   "metadata": {},
   "outputs": [],
   "source": [
    "class Sentence():\n",
    "    \"\"\"\n",
    "    Logical statement about a Minesweeper game\n",
    "    A sentence consists of a set of board cells,\n",
    "    and a count of the number of those cells which are mines.\n",
    "    \"\"\"\n",
    "\n",
    "    def __init__(self, cells, count):\n",
    "        self.cells = set(cells)\n",
    "        self.count = count\n",
    "\n",
    "    def __eq__(self, other):\n",
    "        return self.cells == other.cells and self.count == other.count\n",
    "\n",
    "    def __str__(self):\n",
    "        return f\"{self.cells} = {self.count}\"\n",
    "\n",
    "    def known_mines(self):\n",
    "        \"\"\"\n",
    "        Returns the set of all cells in self.cells known to be mines.\n",
    "        \"\"\"\n",
    "        self.known_mines = []\n",
    "        if self.count == len(self.cells):\n",
    "            for cell in self.cells:\n",
    "                self.known_mines.append(cell)\n",
    "        raise NotImplementedError\n",
    "\n",
    "    def known_safes(self):\n",
    "        \"\"\"\n",
    "        Returns the set of all cells in self.cells known to be safe.\n",
    "        \"\"\"\n",
    "        self.known_safes = []\n",
    "        if self.count == 0:\n",
    "            for cell in self.cells:\n",
    "                self.known_safes.append(cell)\n",
    "        raise NotImplementedError\n",
    "\n",
    "    def mark_mine(self, cell):\n",
    "        \"\"\"\n",
    "        Updates internal knowledge representation given the fact that\n",
    "        a cell is known to be a mine.\n",
    "        \"\"\"\n",
    "        if cell in self.cells:\n",
    "            new_mine = Sentence(self.cells.pop(cell), 1)\n",
    "        return new_mine\n",
    "        raise NotImplementedError\n",
    "\n",
    "    def mark_safe(self, cell):\n",
    "        \"\"\"\n",
    "        Updates internal knowledge representation given the fact that\n",
    "        a cell is known to be safe.\n",
    "        \"\"\"\n",
    "        if cell in self.cells:\n",
    "            new_safe = Sentence(self.cells.pop(cell), 0)\n",
    "        return new_safe\n",
    "        raise NotImplementedError"
   ]
  },
  {
   "cell_type": "code",
   "execution_count": 15,
   "metadata": {},
   "outputs": [],
   "source": [
    "cells = [(2,3),(2,4),(3,1)]"
   ]
  },
  {
   "cell_type": "code",
   "execution_count": 19,
   "metadata": {},
   "outputs": [
    {
     "data": {
      "text/plain": [
       "({(2, 3), (2, 4), (3, 1)}, 2)"
      ]
     },
     "execution_count": 19,
     "metadata": {},
     "output_type": "execute_result"
    }
   ],
   "source": [
    "test = Sentence(set(cells), 2)\n",
    "test.cells, test.count"
   ]
  },
  {
   "cell_type": "code",
   "execution_count": null,
   "metadata": {},
   "outputs": [],
   "source": []
  }
 ],
 "metadata": {
  "kernelspec": {
   "display_name": "Python 3",
   "language": "python",
   "name": "python3"
  },
  "language_info": {
   "codemirror_mode": {
    "name": "ipython",
    "version": 3
   },
   "file_extension": ".py",
   "mimetype": "text/x-python",
   "name": "python",
   "nbconvert_exporter": "python",
   "pygments_lexer": "ipython3",
   "version": "3.7.4"
  }
 },
 "nbformat": 4,
 "nbformat_minor": 2
}
